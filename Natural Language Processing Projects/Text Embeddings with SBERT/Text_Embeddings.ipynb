{
  "nbformat": 4,
  "nbformat_minor": 0,
  "metadata": {
    "colab": {
      "provenance": []
    },
    "kernelspec": {
      "name": "python3",
      "display_name": "Python 3"
    },
    "language_info": {
      "name": "python"
    }
  },
  "cells": [
    {
      "cell_type": "code",
      "execution_count": 1,
      "metadata": {
        "collapsed": true,
        "id": "omBMrxReCb4J"
      },
      "outputs": [],
      "source": [
        "# Install Sentence Transformers\n",
        "# %pip install -U sentence-transformers"
      ]
    },
    {
      "cell_type": "markdown",
      "source": [
        "SentenceTransformers is a Python framework for state-of-the-art sentence, text and image embeddings.\n",
        "\n",
        "Link: https://www.sbert.net/docs/quickstart.html"
      ],
      "metadata": {
        "id": "1fuU7iHZFtFx"
      }
    },
    {
      "cell_type": "code",
      "source": [
        "from sentence_transformers import SentenceTransformer, util"
      ],
      "metadata": {
        "colab": {
          "base_uri": "https://localhost:8080/"
        },
        "collapsed": true,
        "id": "T93dfhcIDCdH",
        "outputId": "9a97d395-2552-4187-e71e-9db293ddc23a"
      },
      "execution_count": 2,
      "outputs": [
        {
          "output_type": "stream",
          "name": "stderr",
          "text": [
            "/usr/local/lib/python3.10/dist-packages/sentence_transformers/cross_encoder/CrossEncoder.py:11: TqdmExperimentalWarning: Using `tqdm.autonotebook.tqdm` in notebook mode. Use `tqdm.tqdm` instead to force console mode (e.g. in jupyter console)\n",
            "  from tqdm.autonotebook import tqdm, trange\n"
          ]
        }
      ]
    },
    {
      "cell_type": "code",
      "source": [
        "model = SentenceTransformer('all-MiniLM-L6-v2')"
      ],
      "metadata": {
        "colab": {
          "base_uri": "https://localhost:8080/"
        },
        "collapsed": true,
        "id": "iHpojhOQDv9x",
        "outputId": "8f1372f1-11d2-48c3-b9ac-e6dc243e065b"
      },
      "execution_count": 3,
      "outputs": [
        {
          "output_type": "stream",
          "name": "stderr",
          "text": [
            "/usr/local/lib/python3.10/dist-packages/huggingface_hub/utils/_token.py:89: UserWarning: \n",
            "The secret `HF_TOKEN` does not exist in your Colab secrets.\n",
            "To authenticate with the Hugging Face Hub, create a token in your settings tab (https://huggingface.co/settings/tokens), set it as secret in your Google Colab and restart your session.\n",
            "You will be able to reuse this secret in all of your notebooks.\n",
            "Please note that authentication is recommended but still optional to access public models or datasets.\n",
            "  warnings.warn(\n",
            "/usr/local/lib/python3.10/dist-packages/huggingface_hub/file_download.py:1132: FutureWarning: `resume_download` is deprecated and will be removed in version 1.0.0. Downloads always resume when possible. If you want to force a new download, use `force_download=True`.\n",
            "  warnings.warn(\n"
          ]
        }
      ]
    },
    {
      "cell_type": "markdown",
      "source": [
        "## Sentence Embeddings and Similarity"
      ],
      "metadata": {
        "id": "-qVT9vMFHR2b"
      }
    },
    {
      "cell_type": "code",
      "source": [
        "# The sentences to encode\n",
        "sentences = [\n",
        "    \"The weather is lovely today.\",\n",
        "    \"It's so sunny outside!\",\n",
        "    \"He drove to the stadium.\",\n",
        "]"
      ],
      "metadata": {
        "id": "MRuVQrAcHKgn"
      },
      "execution_count": 4,
      "outputs": []
    },
    {
      "cell_type": "code",
      "source": [
        "# Calculate embeddings by calling model.encode()\n",
        "embeddings = model.encode(sentences)"
      ],
      "metadata": {
        "id": "E1Yv73X6IAe1"
      },
      "execution_count": 5,
      "outputs": []
    },
    {
      "cell_type": "code",
      "source": [
        "for sent,embed in zip(sentences, embeddings):\n",
        "  print(\"Sentence:\", sent)\n",
        "  print(\" Shape of Embeddings:\", embed.shape)\n",
        "  # print(\"Embeddings: \", embed)"
      ],
      "metadata": {
        "colab": {
          "base_uri": "https://localhost:8080/"
        },
        "id": "SGnz6ylZIWSr",
        "outputId": "4db180e2-9be4-4a6c-d666-184435eb8c7f"
      },
      "execution_count": 6,
      "outputs": [
        {
          "output_type": "stream",
          "name": "stdout",
          "text": [
            "Sentence: The weather is lovely today.\n",
            " Shape of Embeddings: (384,)\n",
            "Sentence: It's so sunny outside!\n",
            " Shape of Embeddings: (384,)\n",
            "Sentence: He drove to the stadium.\n",
            " Shape of Embeddings: (384,)\n"
          ]
        }
      ]
    },
    {
      "cell_type": "code",
      "source": [
        "# Calculate the embedding similarities\n",
        "similarities = model.similarity(embeddings, embeddings)\n",
        "print(similarities)"
      ],
      "metadata": {
        "colab": {
          "base_uri": "https://localhost:8080/"
        },
        "id": "gVFFNUAWI4pv",
        "outputId": "b000835a-6d44-4e09-827a-15faa8d1d847"
      },
      "execution_count": 7,
      "outputs": [
        {
          "output_type": "stream",
          "name": "stdout",
          "text": [
            "tensor([[1.0000, 0.6660, 0.1046],\n",
            "        [0.6660, 1.0000, 0.1411],\n",
            "        [0.1046, 0.1411, 1.0000]])\n"
          ]
        }
      ]
    },
    {
      "cell_type": "code",
      "source": [
        "# Calculate cosine similarities\n",
        "cosine_scores = util.cos_sim(embeddings, embeddings)\n",
        "cosine_scores"
      ],
      "metadata": {
        "colab": {
          "base_uri": "https://localhost:8080/"
        },
        "id": "NQcirPeBJSUR",
        "outputId": "c5db31f9-4e43-4267-ca7c-37ae81c0b587"
      },
      "execution_count": 8,
      "outputs": [
        {
          "output_type": "execute_result",
          "data": {
            "text/plain": [
              "tensor([[1.0000, 0.6660, 0.1046],\n",
              "        [0.6660, 1.0000, 0.1411],\n",
              "        [0.1046, 0.1411, 1.0000]])"
            ]
          },
          "metadata": {},
          "execution_count": 8
        }
      ]
    },
    {
      "cell_type": "code",
      "source": [
        "# Paraphrase Mining\n",
        "paraphrases = util.paraphrase_mining(model, sentences)"
      ],
      "metadata": {
        "id": "CMZwULdDNqhr"
      },
      "execution_count": 9,
      "outputs": []
    },
    {
      "cell_type": "code",
      "source": [
        "# Top 5 similar sentences\n",
        "for sim in paraphrases[0:5]:\n",
        "  score, i, j = sim\n",
        "  print(sentences[i], sentences[j], \" --> \",score)"
      ],
      "metadata": {
        "colab": {
          "base_uri": "https://localhost:8080/"
        },
        "id": "E6dhV2b3N5Hi",
        "outputId": "dbfa488f-4eda-403b-d995-c13b04c306f2"
      },
      "execution_count": 10,
      "outputs": [
        {
          "output_type": "stream",
          "name": "stdout",
          "text": [
            "The weather is lovely today. It's so sunny outside!  -->  0.6659553050994873\n",
            "It's so sunny outside! He drove to the stadium.  -->  0.14114463329315186\n",
            "The weather is lovely today. He drove to the stadium.  -->  0.10458402335643768\n"
          ]
        }
      ]
    }
  ]
}