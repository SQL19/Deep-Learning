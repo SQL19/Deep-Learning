{
  "nbformat": 4,
  "nbformat_minor": 0,
  "metadata": {
    "colab": {
      "provenance": []
    },
    "kernelspec": {
      "name": "python3",
      "display_name": "Python 3"
    },
    "language_info": {
      "name": "python"
    }
  },
  "cells": [
    {
      "cell_type": "markdown",
      "source": [
        "## Semantic Search\n",
        "\n",
        "Semantic search seeks to improve search accuracy by understanding the semantic meaning of the search query and the corpus to search over.\n"
      ],
      "metadata": {
        "id": "1fuU7iHZFtFx"
      }
    },
    {
      "cell_type": "code",
      "source": [
        "from sentence_transformers import SentenceTransformer, util\n",
        "import torch"
      ],
      "metadata": {
        "colab": {
          "base_uri": "https://localhost:8080/"
        },
        "collapsed": true,
        "id": "T93dfhcIDCdH",
        "outputId": "89c37c44-0de2-4772-96fd-2b0b3fd7f107"
      },
      "execution_count": 1,
      "outputs": [
        {
          "output_type": "stream",
          "name": "stderr",
          "text": [
            "/usr/local/lib/python3.10/dist-packages/sentence_transformers/cross_encoder/CrossEncoder.py:11: TqdmExperimentalWarning: Using `tqdm.autonotebook.tqdm` in notebook mode. Use `tqdm.tqdm` instead to force console mode (e.g. in jupyter console)\n",
            "  from tqdm.autonotebook import tqdm, trange\n"
          ]
        }
      ]
    },
    {
      "cell_type": "code",
      "source": [
        "model = SentenceTransformer('multi-qa-MiniLM-L6-cos-v1')"
      ],
      "metadata": {
        "colab": {
          "base_uri": "https://localhost:8080/"
        },
        "collapsed": true,
        "id": "iHpojhOQDv9x",
        "outputId": "82827cdd-0cfe-4735-c248-6c193ded0672"
      },
      "execution_count": 2,
      "outputs": [
        {
          "output_type": "stream",
          "name": "stderr",
          "text": [
            "/usr/local/lib/python3.10/dist-packages/huggingface_hub/utils/_token.py:89: UserWarning: \n",
            "The secret `HF_TOKEN` does not exist in your Colab secrets.\n",
            "To authenticate with the Hugging Face Hub, create a token in your settings tab (https://huggingface.co/settings/tokens), set it as secret in your Google Colab and restart your session.\n",
            "You will be able to reuse this secret in all of your notebooks.\n",
            "Please note that authentication is recommended but still optional to access public models or datasets.\n",
            "  warnings.warn(\n",
            "/usr/local/lib/python3.10/dist-packages/huggingface_hub/file_download.py:1132: FutureWarning: `resume_download` is deprecated and will be removed in version 1.0.0. Downloads always resume when possible. If you want to force a new download, use `force_download=True`.\n",
            "  warnings.warn(\n"
          ]
        }
      ]
    },
    {
      "cell_type": "markdown",
      "source": [
        "### Manual Implementation"
      ],
      "metadata": {
        "id": "1IshSkDonFzD"
      }
    },
    {
      "cell_type": "code",
      "source": [
        "corpus = [\n",
        "    \"A man is eating food.\",\n",
        "    \"A man is eating a piece of bread.\",\n",
        "    \"The girl is carrying a baby.\",\n",
        "    \"A man is riding a horse.\",\n",
        "    \"A woman is playing violin.\",\n",
        "    \"Two men pushed carts through the woods.\",\n",
        "    \"A man is riding a white horse on an enclosed ground.\",\n",
        "    \"A monkey is playing drums.\",\n",
        "    \"A cheetah is running behind its prey.\",\n",
        "]"
      ],
      "metadata": {
        "id": "j0OvSm6um_6a"
      },
      "execution_count": 3,
      "outputs": []
    },
    {
      "cell_type": "code",
      "source": [
        "queries = [\n",
        "    \"A man is eating pasta.\",\n",
        "    \"Someone in a gorilla costume is playing a set of drums.\",\n",
        "    \"A cheetah chases prey on across a field.\",\n",
        "]"
      ],
      "metadata": {
        "id": "oMx7hduknDWS"
      },
      "execution_count": 4,
      "outputs": []
    },
    {
      "cell_type": "code",
      "source": [
        "corpus_embeddings = model.encode(corpus, convert_to_tensor=True)\n",
        "query_embeddings = model.encode(queries, convert_to_tensor=True)"
      ],
      "metadata": {
        "id": "5dbNO5DDnTQu"
      },
      "execution_count": 5,
      "outputs": []
    },
    {
      "cell_type": "code",
      "source": [
        "# Find the closest 3 sentences of the corpus for each query sentence based on cosine similarity\n",
        "top_k = min(3, len(corpus))\n",
        "for query in queries:\n",
        "    query_embedding = model.encode(query, convert_to_tensor=True)\n",
        "\n",
        "    # We use cosine-similarity and torch.topk to find the highest 3 scores\n",
        "    similarity_scores = model.similarity(query_embedding, corpus_embeddings)[0]\n",
        "    scores, indices = torch.topk(similarity_scores, k=top_k)\n",
        "\n",
        "    print(\"\\nQuery:\", query)\n",
        "    print(\"Top 3 most similar sentences in corpus:\")\n",
        "\n",
        "    for score, idx in zip(scores, indices):\n",
        "        print(corpus[idx], \"(Score: {:.4f})\".format(score))"
      ],
      "metadata": {
        "colab": {
          "base_uri": "https://localhost:8080/"
        },
        "id": "e1FW57Fbn-q3",
        "outputId": "03e2e7ad-0823-46b8-d34e-51288dfeb080"
      },
      "execution_count": 6,
      "outputs": [
        {
          "output_type": "stream",
          "name": "stdout",
          "text": [
            "\n",
            "Query: A man is eating pasta.\n",
            "Top 3 most similar sentences in corpus:\n",
            "A man is eating food. (Score: 0.8385)\n",
            "A man is eating a piece of bread. (Score: 0.7468)\n",
            "A man is riding a horse. (Score: 0.5328)\n",
            "\n",
            "Query: Someone in a gorilla costume is playing a set of drums.\n",
            "Top 3 most similar sentences in corpus:\n",
            "A monkey is playing drums. (Score: 0.7613)\n",
            "The girl is carrying a baby. (Score: 0.3815)\n",
            "A man is riding a white horse on an enclosed ground. (Score: 0.3685)\n",
            "\n",
            "Query: A cheetah chases prey on across a field.\n",
            "Top 3 most similar sentences in corpus:\n",
            "A cheetah is running behind its prey. (Score: 0.8704)\n",
            "A man is riding a white horse on an enclosed ground. (Score: 0.3741)\n",
            "A monkey is playing drums. (Score: 0.3468)\n"
          ]
        }
      ]
    },
    {
      "cell_type": "markdown",
      "source": [
        "### Optimized Implementation"
      ],
      "metadata": {
        "id": "bo45cRlCo8fT"
      }
    },
    {
      "cell_type": "code",
      "source": [
        "# normalize vectors for fast calculation\n",
        "corpus_embeddings = util.normalize_embeddings(corpus_embeddings)\n",
        "query_embeddings = util.normalize_embeddings(query_embeddings)"
      ],
      "metadata": {
        "id": "jmWy64fMo7pk"
      },
      "execution_count": 7,
      "outputs": []
    },
    {
      "cell_type": "code",
      "source": [
        "hits = util.semantic_search(query_embeddings, corpus_embeddings, score_function=util.dot_score, top_k=3)"
      ],
      "metadata": {
        "id": "n_cBAvZUpXM4"
      },
      "execution_count": 8,
      "outputs": []
    },
    {
      "cell_type": "code",
      "source": [
        "hits"
      ],
      "metadata": {
        "colab": {
          "base_uri": "https://localhost:8080/"
        },
        "id": "YAH5J5h3pnG4",
        "outputId": "5fcd8eff-d4d8-480c-cc81-7b9c568850a1"
      },
      "execution_count": 9,
      "outputs": [
        {
          "output_type": "execute_result",
          "data": {
            "text/plain": [
              "[[{'corpus_id': 0, 'score': 0.8384666442871094},\n",
              "  {'corpus_id': 1, 'score': 0.7468274831771851},\n",
              "  {'corpus_id': 3, 'score': 0.5328127145767212}],\n",
              " [{'corpus_id': 7, 'score': 0.7612733840942383},\n",
              "  {'corpus_id': 2, 'score': 0.3815287947654724},\n",
              "  {'corpus_id': 6, 'score': 0.36845868825912476}],\n",
              " [{'corpus_id': 8, 'score': 0.8703994750976562},\n",
              "  {'corpus_id': 6, 'score': 0.37411704659461975},\n",
              "  {'corpus_id': 7, 'score': 0.3468022346496582}]]"
            ]
          },
          "metadata": {},
          "execution_count": 9
        }
      ]
    },
    {
      "cell_type": "code",
      "source": [
        "for query, hit in zip(queries, hits):\n",
        "  for q_hit in hit:\n",
        "    id = q_hit['corpus_id']\n",
        "    score = q_hit['score']\n",
        "\n",
        "    print(query, \"<>\", corpus[id], \"(Score: {:.4f})\".format(score))\n",
        "\n",
        "  print()"
      ],
      "metadata": {
        "colab": {
          "base_uri": "https://localhost:8080/"
        },
        "id": "MkLfAGuopqhz",
        "outputId": "861931c0-62b4-4f81-d786-3192edf90016"
      },
      "execution_count": 10,
      "outputs": [
        {
          "output_type": "stream",
          "name": "stdout",
          "text": [
            "A man is eating pasta. <> A man is eating food. (Score: 0.8385)\n",
            "A man is eating pasta. <> A man is eating a piece of bread. (Score: 0.7468)\n",
            "A man is eating pasta. <> A man is riding a horse. (Score: 0.5328)\n",
            "\n",
            "Someone in a gorilla costume is playing a set of drums. <> A monkey is playing drums. (Score: 0.7613)\n",
            "Someone in a gorilla costume is playing a set of drums. <> The girl is carrying a baby. (Score: 0.3815)\n",
            "Someone in a gorilla costume is playing a set of drums. <> A man is riding a white horse on an enclosed ground. (Score: 0.3685)\n",
            "\n",
            "A cheetah chases prey on across a field. <> A cheetah is running behind its prey. (Score: 0.8704)\n",
            "A cheetah chases prey on across a field. <> A man is riding a white horse on an enclosed ground. (Score: 0.3741)\n",
            "A cheetah chases prey on across a field. <> A monkey is playing drums. (Score: 0.3468)\n",
            "\n"
          ]
        }
      ]
    }
  ]
}