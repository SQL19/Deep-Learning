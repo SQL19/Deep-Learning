{
  "nbformat": 4,
  "nbformat_minor": 0,
  "metadata": {
    "colab": {
      "provenance": []
    },
    "kernelspec": {
      "name": "python3",
      "display_name": "Python 3"
    },
    "language_info": {
      "name": "python"
    }
  },
  "cells": [
    {
      "cell_type": "code",
      "source": [
        "from sentence_transformers import SentenceTransformer, util\n",
        "from sklearn.cluster import KMeans"
      ],
      "metadata": {
        "collapsed": true,
        "id": "T93dfhcIDCdH"
      },
      "execution_count": null,
      "outputs": []
    },
    {
      "cell_type": "code",
      "source": [
        "model = SentenceTransformer('all-MiniLM-L6-v2')"
      ],
      "metadata": {
        "collapsed": true,
        "id": "iHpojhOQDv9x"
      },
      "execution_count": null,
      "outputs": []
    },
    {
      "cell_type": "code",
      "source": [
        "corpus = [\n",
        "    \"A man is eating food.\",\n",
        "    \"A man is eating a piece of bread.\",\n",
        "    \"A man is eating pasta.\",\n",
        "    \"The girl is carrying a baby.\",\n",
        "    \"The baby is carried by the woman\",\n",
        "    \"A man is riding a horse.\",\n",
        "    \"A man is riding a white horse on an enclosed ground.\",\n",
        "    \"A monkey is playing drums.\",\n",
        "    \"Someone in a gorilla costume is playing a set of drums.\",\n",
        "    \"A cheetah is running behind its prey.\",\n",
        "    \"A cheetah chases prey on across a field.\",\n",
        "]"
      ],
      "metadata": {
        "id": "j0OvSm6um_6a"
      },
      "execution_count": 6,
      "outputs": []
    },
    {
      "cell_type": "code",
      "source": [
        "corpus_embeddings = model.encode(corpus, convert_to_tensor=True)"
      ],
      "metadata": {
        "id": "5dbNO5DDnTQu"
      },
      "execution_count": 7,
      "outputs": []
    },
    {
      "cell_type": "code",
      "source": [
        "# Kmeans Clustering\n",
        "num_clusters = 5\n",
        "clustering_model = KMeans(n_clusters=num_clusters)\n",
        "clustering_model.fit(corpus_embeddings)"
      ],
      "metadata": {
        "id": "VHfHDdqBROcw"
      },
      "execution_count": null,
      "outputs": []
    },
    {
      "cell_type": "code",
      "source": [
        "cluster_assignment = clustering_model.labels_\n",
        "cluster_assignment"
      ],
      "metadata": {
        "colab": {
          "base_uri": "https://localhost:8080/"
        },
        "id": "DeBhkfRBRbDi",
        "outputId": "cf2f4a8f-cd6c-445f-e29d-26ba36d26369"
      },
      "execution_count": 10,
      "outputs": [
        {
          "output_type": "execute_result",
          "data": {
            "text/plain": [
              "array([1, 1, 1, 0, 0, 2, 2, 3, 3, 4, 4], dtype=int32)"
            ]
          },
          "metadata": {},
          "execution_count": 10
        }
      ]
    },
    {
      "cell_type": "code",
      "source": [
        "clustered_sentences = [[] for i in range(num_clusters)]\n",
        "for sentence_id, cluster_id in enumerate(cluster_assignment):\n",
        "  clustered_sentences[cluster_id].append(corpus[sentence_id])"
      ],
      "metadata": {
        "id": "-TrmoarJRpME"
      },
      "execution_count": 11,
      "outputs": []
    },
    {
      "cell_type": "code",
      "source": [
        "for i, cluster in enumerate(clustered_sentences):\n",
        "  print(\"Cluster \", i+1)\n",
        "  print(cluster)\n",
        "  print()"
      ],
      "metadata": {
        "colab": {
          "base_uri": "https://localhost:8080/"
        },
        "id": "_Pik6mMER0VG",
        "outputId": "e92898af-6f4c-4084-96bf-50ccbc37931e"
      },
      "execution_count": 12,
      "outputs": [
        {
          "output_type": "stream",
          "name": "stdout",
          "text": [
            "Cluster  1\n",
            "['The girl is carrying a baby.', 'The baby is carried by the woman']\n",
            "\n",
            "Cluster  2\n",
            "['A man is eating food.', 'A man is eating a piece of bread.', 'A man is eating pasta.']\n",
            "\n",
            "Cluster  3\n",
            "['A man is riding a horse.', 'A man is riding a white horse on an enclosed ground.']\n",
            "\n",
            "Cluster  4\n",
            "['A monkey is playing drums.', 'Someone in a gorilla costume is playing a set of drums.']\n",
            "\n",
            "Cluster  5\n",
            "['A cheetah is running behind its prey.', 'A cheetah chases prey on across a field.']\n",
            "\n"
          ]
        }
      ]
    }
  ]
}