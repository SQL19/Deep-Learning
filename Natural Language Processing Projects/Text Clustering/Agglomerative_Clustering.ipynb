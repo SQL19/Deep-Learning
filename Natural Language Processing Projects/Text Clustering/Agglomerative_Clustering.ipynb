{
  "nbformat": 4,
  "nbformat_minor": 0,
  "metadata": {
    "colab": {
      "provenance": []
    },
    "kernelspec": {
      "name": "python3",
      "display_name": "Python 3"
    },
    "language_info": {
      "name": "python"
    }
  },
  "cells": [
    {
      "cell_type": "markdown",
      "source": [
        "### Agglomerative Clustering\n",
        "The Agglomerative Clustering performs a hierarchical clustering using a bottom up approach: each observation starts in its own cluster, and clusters are successively merged together.\n",
        "\n",
        "In contrast to k-means, we can specify a threshold for the clustering: Clusters below that threshold are merged. This algorithm can be useful if the number of clusters is unknown. By the threshold, we can control if we want to have many small and fine-grained clusters or few coarse-grained clusters."
      ],
      "metadata": {
        "id": "EJB2bR5YZ5F2"
      }
    },
    {
      "cell_type": "code",
      "source": [
        "from sentence_transformers import SentenceTransformer, util\n",
        "from sklearn.cluster import AgglomerativeClustering\n",
        "import numpy as np"
      ],
      "metadata": {
        "collapsed": true,
        "id": "T93dfhcIDCdH"
      },
      "execution_count": 13,
      "outputs": []
    },
    {
      "cell_type": "code",
      "source": [
        "model = SentenceTransformer('all-MiniLM-L6-v2')"
      ],
      "metadata": {
        "collapsed": true,
        "id": "iHpojhOQDv9x"
      },
      "execution_count": null,
      "outputs": []
    },
    {
      "cell_type": "code",
      "source": [
        "corpus = [\n",
        "    \"A man is eating food.\",\n",
        "    \"A man is eating a piece of bread.\",\n",
        "    \"A man is eating pasta.\",\n",
        "    \"The girl is carrying a baby.\",\n",
        "    \"The baby is carried by the woman\",\n",
        "    \"A man is riding a horse.\",\n",
        "    \"A man is riding a white horse on an enclosed ground.\",\n",
        "    \"A monkey is playing drums.\",\n",
        "    \"Someone in a gorilla costume is playing a set of drums.\",\n",
        "    \"A cheetah is running behind its prey.\",\n",
        "    \"A cheetah chases prey on across a field.\",\n",
        "]"
      ],
      "metadata": {
        "id": "j0OvSm6um_6a"
      },
      "execution_count": 6,
      "outputs": []
    },
    {
      "cell_type": "code",
      "source": [
        "corpus_embeddings = model.encode(corpus, convert_to_tensor=True)"
      ],
      "metadata": {
        "id": "5dbNO5DDnTQu"
      },
      "execution_count": 7,
      "outputs": []
    },
    {
      "cell_type": "code",
      "source": [
        "# Normalization\n",
        "corpus_embeddings = corpus_embeddings/np.linalg.norm(corpus_embeddings, axis=1, keepdims=True)"
      ],
      "metadata": {
        "id": "k6tJus93YcUL"
      },
      "execution_count": 15,
      "outputs": []
    },
    {
      "cell_type": "code",
      "source": [
        "# Agglomerative Clustering\n",
        "clustering_model = AgglomerativeClustering(n_clusters=None, distance_threshold=1.5)\n",
        "clustering_model.fit(corpus_embeddings)"
      ],
      "metadata": {
        "id": "VHfHDdqBROcw"
      },
      "execution_count": null,
      "outputs": []
    },
    {
      "cell_type": "code",
      "source": [
        "cluster_assignment = clustering_model.labels_\n",
        "cluster_assignment"
      ],
      "metadata": {
        "colab": {
          "base_uri": "https://localhost:8080/"
        },
        "id": "DeBhkfRBRbDi",
        "outputId": "3d9d64cc-63f4-4bf6-b00d-fcf3f3fca932"
      },
      "execution_count": 25,
      "outputs": [
        {
          "output_type": "execute_result",
          "data": {
            "text/plain": [
              "array([0, 0, 0, 4, 4, 1, 1, 2, 2, 3, 3])"
            ]
          },
          "metadata": {},
          "execution_count": 25
        }
      ]
    },
    {
      "cell_type": "code",
      "source": [
        "clustered_sentences = [[] for i in range(len(np.unique(cluster_assignment)))]\n",
        "for sentence_id, cluster_id in enumerate(cluster_assignment):\n",
        "  clustered_sentences[cluster_id].append(corpus[sentence_id])"
      ],
      "metadata": {
        "id": "-TrmoarJRpME"
      },
      "execution_count": 26,
      "outputs": []
    },
    {
      "cell_type": "code",
      "source": [
        "for i, cluster in enumerate(clustered_sentences):\n",
        "  print(\"Cluster \", i+1)\n",
        "  print(cluster)\n",
        "  print()"
      ],
      "metadata": {
        "colab": {
          "base_uri": "https://localhost:8080/"
        },
        "id": "_Pik6mMER0VG",
        "outputId": "c304e62e-ff45-41bb-db1b-51401e1595e1"
      },
      "execution_count": 27,
      "outputs": [
        {
          "output_type": "stream",
          "name": "stdout",
          "text": [
            "Cluster  1\n",
            "['A man is eating food.', 'A man is eating a piece of bread.', 'A man is eating pasta.']\n",
            "\n",
            "Cluster  2\n",
            "['A man is riding a horse.', 'A man is riding a white horse on an enclosed ground.']\n",
            "\n",
            "Cluster  3\n",
            "['A monkey is playing drums.', 'Someone in a gorilla costume is playing a set of drums.']\n",
            "\n",
            "Cluster  4\n",
            "['A cheetah is running behind its prey.', 'A cheetah chases prey on across a field.']\n",
            "\n",
            "Cluster  5\n",
            "['The girl is carrying a baby.', 'The baby is carried by the woman']\n",
            "\n"
          ]
        }
      ]
    }
  ]
}